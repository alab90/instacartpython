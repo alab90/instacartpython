{
 "cells": [
  {
   "cell_type": "markdown",
   "id": "e4a92ffd",
   "metadata": {},
   "source": [
    "# 01. Importing Libraries"
   ]
  },
  {
   "cell_type": "code",
   "execution_count": 2,
   "id": "2f87bec4",
   "metadata": {},
   "outputs": [],
   "source": [
    "# Import libraries\n",
    "import pandas as pd\n",
    "import numpy as np\n",
    "import os"
   ]
  },
  {
   "cell_type": "markdown",
   "id": "ac910ca2",
   "metadata": {},
   "source": [
    "# 02. Python Data Types"
   ]
  },
  {
   "cell_type": "code",
   "execution_count": 11,
   "id": "8659d017",
   "metadata": {},
   "outputs": [],
   "source": [
    "a=50"
   ]
  },
  {
   "cell_type": "code",
   "execution_count": 13,
   "id": "f1f11c14",
   "metadata": {},
   "outputs": [
    {
     "name": "stdout",
     "output_type": "stream",
     "text": [
      "100\n"
     ]
    }
   ],
   "source": [
    "print(a+a)"
   ]
  },
  {
   "cell_type": "code",
   "execution_count": 14,
   "id": "681d33af",
   "metadata": {},
   "outputs": [],
   "source": [
    "b=55"
   ]
  },
  {
   "cell_type": "code",
   "execution_count": 15,
   "id": "43c0e6ae",
   "metadata": {},
   "outputs": [],
   "source": [
    "c=5"
   ]
  },
  {
   "cell_type": "code",
   "execution_count": 16,
   "id": "fae7c767",
   "metadata": {},
   "outputs": [
    {
     "name": "stdout",
     "output_type": "stream",
     "text": [
      "100\n"
     ]
    }
   ],
   "source": [
    "print(a+b-c)"
   ]
  },
  {
   "cell_type": "code",
   "execution_count": 17,
   "id": "f3fc9284",
   "metadata": {},
   "outputs": [],
   "source": [
    "d=98"
   ]
  },
  {
   "cell_type": "code",
   "execution_count": 18,
   "id": "36ef8dda",
   "metadata": {},
   "outputs": [],
   "source": [
    "e=2"
   ]
  },
  {
   "cell_type": "code",
   "execution_count": 20,
   "id": "ab14733e",
   "metadata": {},
   "outputs": [
    {
     "name": "stdout",
     "output_type": "stream",
     "text": [
      "100\n"
     ]
    }
   ],
   "source": [
    "print(d+e)"
   ]
  },
  {
   "cell_type": "code",
   "execution_count": 21,
   "id": "4bcdf02c",
   "metadata": {},
   "outputs": [],
   "source": [
    "f=4.56"
   ]
  },
  {
   "cell_type": "code",
   "execution_count": 22,
   "id": "32c24b51",
   "metadata": {},
   "outputs": [],
   "source": [
    "g=1.09"
   ]
  },
  {
   "cell_type": "code",
   "execution_count": 23,
   "id": "c6a9e985",
   "metadata": {},
   "outputs": [
    {
     "name": "stdout",
     "output_type": "stream",
     "text": [
      "4.183486238532109\n"
     ]
    }
   ],
   "source": [
    "print(f/g)"
   ]
  },
  {
   "cell_type": "code",
   "execution_count": 24,
   "id": "303e723d",
   "metadata": {},
   "outputs": [],
   "source": [
    "h='See spot '"
   ]
  },
  {
   "cell_type": "code",
   "execution_count": 25,
   "id": "0890a33d",
   "metadata": {},
   "outputs": [],
   "source": [
    "i='run.'"
   ]
  },
  {
   "cell_type": "code",
   "execution_count": 26,
   "id": "b00b72a3",
   "metadata": {},
   "outputs": [
    {
     "name": "stdout",
     "output_type": "stream",
     "text": [
      "See spot run.\n"
     ]
    }
   ],
   "source": [
    "print(h+i)"
   ]
  },
  {
   "cell_type": "code",
   "execution_count": 27,
   "id": "a8a9472f",
   "metadata": {},
   "outputs": [],
   "source": [
    "j='Mom is '"
   ]
  },
  {
   "cell_type": "code",
   "execution_count": 28,
   "id": "69ab0a35",
   "metadata": {},
   "outputs": [],
   "source": [
    "k='sleepy.'"
   ]
  },
  {
   "cell_type": "code",
   "execution_count": 29,
   "id": "c798f04e",
   "metadata": {},
   "outputs": [
    {
     "name": "stdout",
     "output_type": "stream",
     "text": [
      "Mom is sleepy.\n"
     ]
    }
   ],
   "source": [
    "print(j+k)"
   ]
  },
  {
   "cell_type": "code",
   "execution_count": null,
   "id": "88adad0b",
   "metadata": {},
   "outputs": [],
   "source": []
  }
 ],
 "metadata": {
  "kernelspec": {
   "display_name": "Python 3 (ipykernel)",
   "language": "python",
   "name": "python3"
  },
  "language_info": {
   "codemirror_mode": {
    "name": "ipython",
    "version": 3
   },
   "file_extension": ".py",
   "mimetype": "text/x-python",
   "name": "python",
   "nbconvert_exporter": "python",
   "pygments_lexer": "ipython3",
   "version": "3.11.4"
  }
 },
 "nbformat": 4,
 "nbformat_minor": 5
}
